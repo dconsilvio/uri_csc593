{
 "cells": [
  {
   "cell_type": "markdown",
   "metadata": {},
   "source": [
    "# CSC 593"
   ]
  },
  {
   "cell_type": "markdown",
   "metadata": {},
   "source": [
    "## Week 5"
   ]
  },
  {
   "cell_type": "markdown",
   "metadata": {},
   "source": [
    "### Reading and Writing Files"
   ]
  },
  {
   "cell_type": "markdown",
   "metadata": {},
   "source": [
    "The built-in function [`open()`](https://docs.python.org/3/library/functions.html#open) returns a \"file object\" that can be used to read from and/or write to a file.\n",
    "\n",
    "In general we do file input/output inside code blocks started with the `with` keyword. This just simplifies the process of managing the file object and closing it after you've finished.\n",
    "\n",
    "`open()` takes two arguments: a path to the file on the filesystem, and the *mode* we want to open the file in. To read from the file, use 'r' as the mode. Use the file object's `read()` method to read the entire file, or `readline()` to read one line at a time."
   ]
  },
  {
   "cell_type": "code",
   "execution_count": 1,
   "metadata": {},
   "outputs": [
    {
     "name": "stdout",
     "output_type": "stream",
     "text": [
      "This is just a short text file.\n",
      "\n",
      "Here is another line of text.\n"
     ]
    }
   ],
   "source": [
    "with open('../data/textfile.txt', 'r') as f:\n",
    "    print(f.read())"
   ]
  },
  {
   "cell_type": "markdown",
   "metadata": {},
   "source": [
    "Use mode 'w' to write to the file:"
   ]
  },
  {
   "cell_type": "code",
   "execution_count": 2,
   "metadata": {},
   "outputs": [],
   "source": [
    "with open('../data/newfile.txt', 'w') as f:\n",
    "    f.write(\"\"\"This is some text.\n",
    "    \n",
    "This is some more text.\"\"\")"
   ]
  },
  {
   "cell_type": "code",
   "execution_count": 3,
   "metadata": {},
   "outputs": [
    {
     "name": "stdout",
     "output_type": "stream",
     "text": [
      "This is some text.\n",
      "\n"
     ]
    }
   ],
   "source": [
    "with open('../data/newfile.txt', 'r') as f:\n",
    "    print(f.readline())"
   ]
  },
  {
   "cell_type": "markdown",
   "metadata": {},
   "source": [
    "You can also iterate over the file object, line by line:"
   ]
  },
  {
   "cell_type": "code",
   "execution_count": 4,
   "metadata": {},
   "outputs": [
    {
     "name": "stdout",
     "output_type": "stream",
     "text": [
      "This is some text.\n",
      "\n",
      "    \n",
      "\n",
      "This is some more text.\n"
     ]
    }
   ],
   "source": [
    "with open('../data/newfile.txt', 'r') as f:\n",
    "    for ln in f:\n",
    "        print(ln)"
   ]
  },
  {
   "cell_type": "markdown",
   "metadata": {},
   "source": [
    "Be careful: `open(filename, 'w')` will overwrite existing files."
   ]
  },
  {
   "cell_type": "code",
   "execution_count": 5,
   "metadata": {},
   "outputs": [
    {
     "name": "stdout",
     "output_type": "stream",
     "text": [
      "\n"
     ]
    }
   ],
   "source": [
    "open('../data/newfile.txt', 'w').close()  # our new file is now empty.\n",
    "\n",
    "with open('../data/newfile.txt', 'r') as f:\n",
    "    print(f.read())"
   ]
  },
  {
   "cell_type": "markdown",
   "metadata": {},
   "source": [
    "Using mode 'x' will open a new file for writing, but throw an error if the file already exists."
   ]
  },
  {
   "cell_type": "code",
   "execution_count": 6,
   "metadata": {},
   "outputs": [
    {
     "ename": "FileExistsError",
     "evalue": "[Errno 17] File exists: '../data/textfile.txt'",
     "output_type": "error",
     "traceback": [
      "\u001b[0;31m-------------------------------------------------------------------\u001b[0m",
      "\u001b[0;31mFileExistsError\u001b[0m                   Traceback (most recent call last)",
      "\u001b[0;32m<ipython-input-6-07ae712a1ce3>\u001b[0m in \u001b[0;36m<module>\u001b[0;34m\u001b[0m\n\u001b[0;32m----> 1\u001b[0;31m \u001b[0;32mwith\u001b[0m \u001b[0mopen\u001b[0m\u001b[0;34m(\u001b[0m\u001b[0;34m'../data/textfile.txt'\u001b[0m\u001b[0;34m,\u001b[0m \u001b[0;34m'x'\u001b[0m\u001b[0;34m)\u001b[0m \u001b[0;32mas\u001b[0m \u001b[0mf\u001b[0m\u001b[0;34m:\u001b[0m\u001b[0;34m\u001b[0m\u001b[0;34m\u001b[0m\u001b[0m\n\u001b[0m\u001b[1;32m      2\u001b[0m     \u001b[0;32mpass\u001b[0m\u001b[0;34m\u001b[0m\u001b[0;34m\u001b[0m\u001b[0m\n",
      "\u001b[0;31mFileExistsError\u001b[0m: [Errno 17] File exists: '../data/textfile.txt'"
     ]
    }
   ],
   "source": [
    "with open('../data/textfile.txt', 'x') as f:\n",
    "    pass"
   ]
  },
  {
   "cell_type": "markdown",
   "metadata": {},
   "source": [
    "#### Practice\n",
    "\n",
    "Try opening the class syllabus ('../README.md') and printing the first line."
   ]
  },
  {
   "cell_type": "code",
   "execution_count": null,
   "metadata": {},
   "outputs": [],
   "source": []
  },
  {
   "cell_type": "markdown",
   "metadata": {},
   "source": [
    "##### `CSV`\n",
    "\n",
    "Comma-separated values files are a common data exchange format. Python has built-in support for them:"
   ]
  },
  {
   "cell_type": "code",
   "execution_count": null,
   "metadata": {},
   "outputs": [],
   "source": [
    "import csv"
   ]
  },
  {
   "cell_type": "markdown",
   "metadata": {},
   "source": [
    "To read a CSV file, open it like any other, then read the file object with a `csv.reader()`. Here we use the `next()` function to retrieve the first line of the `familyxx.csv` file, then print the header labels.\n",
    "\n",
    "`familyxx.csv` is part of the data release from the 2018 [National Health Interview Survey](https://www.cdc.gov/nchs/nhis/index.htm)."
   ]
  },
  {
   "cell_type": "code",
   "execution_count": null,
   "metadata": {},
   "outputs": [],
   "source": [
    "with open('../data/nhis/familyxx.csv') as f:\n",
    "    rdr = csv.reader(f)\n",
    "    hdr = next(rdr)\n",
    "    for name in hdr:\n",
    "        print(name)"
   ]
  },
  {
   "cell_type": "markdown",
   "metadata": {},
   "source": [
    "##### `zip()`\n",
    "\n",
    "The [`zip`](https://docs.python.org/3/library/functions.html#zip) function merges two or more iterables (like lists or strings)."
   ]
  },
  {
   "cell_type": "code",
   "execution_count": null,
   "metadata": {},
   "outputs": [],
   "source": [
    "l1 = [1, 2, 3]\n",
    "l2 = ['a', 'b', 'c']\n",
    "l3 = ['x', 'y', 'z']\n",
    "for x in zip(l1, l2, l3):\n",
    "    print(x)\n",
    "\n",
    "for x in zip('foo', 'bar'):\n",
    "    print(x)"
   ]
  },
  {
   "cell_type": "markdown",
   "metadata": {},
   "source": [
    "This gives us another way to answer the last question from homework assignment 2:"
   ]
  },
  {
   "cell_type": "code",
   "execution_count": null,
   "metadata": {},
   "outputs": [],
   "source": [
    "string1 = 'ABCDEFGHIJ'\n",
    "string2 = 'ABCDEEGHIJ'\n",
    "\n",
    "for x in zip(string1, string2):\n",
    "    print(*x, sep='')"
   ]
  },
  {
   "cell_type": "markdown",
   "metadata": {},
   "source": [
    "More importantly, it's a convenient way to create dictionaries from two lists:"
   ]
  },
  {
   "cell_type": "code",
   "execution_count": null,
   "metadata": {},
   "outputs": [],
   "source": [
    "dict(zip(l2, l1))"
   ]
  },
  {
   "cell_type": "markdown",
   "metadata": {},
   "source": [
    "Here, we create a list of dictionaries, each containing one row of the `familyxx` data."
   ]
  },
  {
   "cell_type": "code",
   "execution_count": null,
   "metadata": {},
   "outputs": [],
   "source": [
    "with open('../data/nhis/familyxx.csv') as f:\n",
    "    rdr = csv.reader(f)\n",
    "    hdr = next(rdr)\n",
    "    nhis = [dict(zip(hdr, row)) for row in rdr]"
   ]
  },
  {
   "cell_type": "code",
   "execution_count": null,
   "metadata": {},
   "outputs": [],
   "source": [
    "print(len(nhis))\n",
    "print(nhis[0])"
   ]
  },
  {
   "cell_type": "markdown",
   "metadata": {},
   "source": [
    "#### Practice\n",
    "Import your own dataset, or the NHIS persons file (`..\\data\\nhis\\personsx.csv`). Create a list of dictionaries, as I have above."
   ]
  },
  {
   "cell_type": "code",
   "execution_count": null,
   "metadata": {},
   "outputs": [],
   "source": []
  },
  {
   "cell_type": "markdown",
   "metadata": {},
   "source": [
    "### Web Scraping\n",
    "\n"
   ]
  },
  {
   "cell_type": "markdown",
   "metadata": {},
   "source": [
    "We'll use the [`requests`](https://3.python-requests.org/) module to retrieve data from the web, and [`Beautiful Soup`](https://www.crummy.com/software/BeautifulSoup/bs4/doc/) to read these pages."
   ]
  },
  {
   "cell_type": "code",
   "execution_count": null,
   "metadata": {},
   "outputs": [],
   "source": [
    "import requests\n",
    "from bs4 import BeautifulSoup as bs"
   ]
  },
  {
   "cell_type": "markdown",
   "metadata": {},
   "source": [
    "Get [Wikipedia's list of Rhode Island municipalities](https://en.wikipedia.org/wiki/List_of_municipalities_in_Rhode_Island). A response code of 200 means \"OK\""
   ]
  },
  {
   "cell_type": "code",
   "execution_count": null,
   "metadata": {},
   "outputs": [],
   "source": [
    "page = requests.get('https://en.wikipedia.org/wiki/List_of_municipalities_in_Rhode_Island')\n",
    "page"
   ]
  },
  {
   "cell_type": "markdown",
   "metadata": {},
   "source": [
    "Parse the source of the page with BeautifulSoup and find the table. We know it has the class 'wikitable'. We have to do some tinkering here--the table is messier than the CDC's file."
   ]
  },
  {
   "cell_type": "code",
   "execution_count": null,
   "metadata": {},
   "outputs": [],
   "source": [
    "soup = bs(page.text, 'html.parser')\n",
    "table = soup.find('table', class_='wikitable')\n",
    "\n",
    "#Find all the table headers (th elements).\n",
    "#Remove the footnotes/references from the header cell labels.\n",
    "headers = [th.text.strip().split('[')[0] for th in table.find_all('th')]\n",
    "\n",
    "print(headers)\n",
    "\n",
    "#There are two subheaders under Land Area. We need to make some adjustments to our headers.\n",
    "lahead = headers[-4]\n",
    "headers[-4] = lahead + ' sq mi'\n",
    "\n",
    "#the list.insert() method adds an element to the list at a specified location.\n",
    "headers.insert(-3, lahead + ' km2')\n",
    "\n",
    "#Remove the last two elements from the headers list.\n",
    "headers = headers[:-2]\n",
    "print(headers)"
   ]
  },
  {
   "cell_type": "code",
   "execution_count": null,
   "metadata": {},
   "outputs": [],
   "source": [
    "ridata = []\n",
    "for row in table.find_all('tr')[2:]:\n",
    "    rowdata = [cell.text.strip() for cell in row.find_all('td')]\n",
    "    ridata.append(dict(zip(headers, rowdata)))\n",
    "\n",
    "ridata"
   ]
  },
  {
   "cell_type": "markdown",
   "metadata": {},
   "source": [
    "#### Practice\n",
    "Find another table on Wikipedia (try searching for \"list of...\". Import that table, as I have the RI towns list."
   ]
  },
  {
   "cell_type": "code",
   "execution_count": null,
   "metadata": {},
   "outputs": [],
   "source": []
  },
  {
   "cell_type": "markdown",
   "metadata": {},
   "source": [
    "### Working with lists of data"
   ]
  },
  {
   "cell_type": "markdown",
   "metadata": {},
   "source": [
    "#### Selecting \"rows\" or \"columns\""
   ]
  },
  {
   "cell_type": "markdown",
   "metadata": {},
   "source": [
    "Picking a single row by its index is easy--we've been doing this since the second class."
   ]
  },
  {
   "cell_type": "code",
   "execution_count": null,
   "metadata": {},
   "outputs": [],
   "source": [
    "ridata[5]"
   ]
  },
  {
   "cell_type": "code",
   "execution_count": null,
   "metadata": {},
   "outputs": [],
   "source": [
    "print(ridata[-1])\n",
    "del(ridata[-1])"
   ]
  },
  {
   "cell_type": "markdown",
   "metadata": {},
   "source": [
    "We can also choose one or more rows using a list comprehension."
   ]
  },
  {
   "cell_type": "code",
   "execution_count": null,
   "metadata": {},
   "outputs": [],
   "source": [
    "[x for x in ridata if x['County']==\"Washington\"]"
   ]
  },
  {
   "cell_type": "markdown",
   "metadata": {},
   "source": [
    "Another option is the [`filter()`](https://docs.python.org/3/library/functions.html#filter) function. For this we need a new language feature: [_lambda_ expressions](https://docs.python.org/3/tutorial/controlflow.html#lambda-expressions). These are small functions that can be used as function or method arguments without first declaring them.\n",
    "\n",
    "Here's the equivalent of the last expression using `filter()`"
   ]
  },
  {
   "cell_type": "code",
   "execution_count": null,
   "metadata": {},
   "outputs": [],
   "source": [
    "list(filter(lambda x: x['County'] == 'Washington', ridata))"
   ]
  },
  {
   "cell_type": "markdown",
   "metadata": {},
   "source": [
    "`filter()` takes two arguments:\n",
    "    \n",
    "1. A function that returns `True` if we should keep the list (or other iterable) item or `False` otherwise; and\n",
    "2. our list.\n",
    "\n",
    "Our first argument above is a lambda function:\n",
    "\n",
    "`lambda x: x['County'] == 'Washington'`\n",
    "\n",
    "This is simply a shorthand method of creating a function and using it once. We can get the same effect this way:"
   ]
  },
  {
   "cell_type": "code",
   "execution_count": null,
   "metadata": {},
   "outputs": [],
   "source": [
    "def wash_county(x):\n",
    "    return x['County'] == 'Washington'\n",
    "\n",
    "list(filter(wash_county, ridata))"
   ]
  },
  {
   "cell_type": "markdown",
   "metadata": {},
   "source": [
    "We can select a single \"column\" with a simple list comprehension:"
   ]
  },
  {
   "cell_type": "code",
   "execution_count": null,
   "metadata": {},
   "outputs": [],
   "source": [
    "[row['Name'] for row in ridata]"
   ]
  },
  {
   "cell_type": "markdown",
   "metadata": {},
   "source": [
    "##### Practice\n",
    "Experiment with selecting rows or columns from one of the datasets you've loaded (your data, `personsx.csv`, or your Wikipedia table)."
   ]
  },
  {
   "cell_type": "code",
   "execution_count": null,
   "metadata": {},
   "outputs": [],
   "source": [
    "#Choose a subset of rows"
   ]
  },
  {
   "cell_type": "code",
   "execution_count": null,
   "metadata": {},
   "outputs": [],
   "source": [
    "#Choose a column"
   ]
  },
  {
   "cell_type": "markdown",
   "metadata": {},
   "source": [
    "#### [Sorting](https://docs.python.org/3/howto/sorting.html)\n",
    "\n",
    "Sorting simple lists is simple."
   ]
  },
  {
   "cell_type": "code",
   "execution_count": null,
   "metadata": {},
   "outputs": [],
   "source": [
    "from random import randrange\n",
    "somelist = [randrange(100) for x in range(10)]\n",
    "print(somelist)\n",
    "print(sorted(somelist))"
   ]
  },
  {
   "cell_type": "markdown",
   "metadata": {},
   "source": [
    "Our lists of dictionaries are slightly more complex. We must provide a `key` argument. We can use a `lambda`."
   ]
  },
  {
   "cell_type": "code",
   "execution_count": null,
   "metadata": {},
   "outputs": [],
   "source": [
    "sorted(ridata, key=lambda muni: muni['Year established'])"
   ]
  },
  {
   "cell_type": "markdown",
   "metadata": {},
   "source": [
    "We can also use `itemgetter` from the `operator` module:"
   ]
  },
  {
   "cell_type": "code",
   "execution_count": null,
   "metadata": {},
   "outputs": [],
   "source": [
    "from operator import itemgetter\n",
    "sorted(ridata, key=itemgetter('Population(2010)'))"
   ]
  },
  {
   "cell_type": "markdown",
   "metadata": {},
   "source": [
    "##### Practice\n",
    "Experiment with sorting your data."
   ]
  },
  {
   "cell_type": "code",
   "execution_count": null,
   "metadata": {},
   "outputs": [],
   "source": [
    "#Sort one of your open datasets."
   ]
  },
  {
   "cell_type": "markdown",
   "metadata": {},
   "source": [
    "#### Cleaning"
   ]
  },
  {
   "cell_type": "markdown",
   "metadata": {},
   "source": [
    "We can loop over the list to make changes to our data. Here we use the `.isnumeric()` [string method](https://docs.python.org/3/library/stdtypes.html#text-sequence-type-str) to determine whether a string can be converted to an `int` or `float`. We'll also use the `.replace()` method to remove periods and commas from strings as needed."
   ]
  },
  {
   "cell_type": "code",
   "execution_count": null,
   "metadata": {},
   "outputs": [],
   "source": [
    "for row in ridata:\n",
    "    if row['Year established'].isnumeric():\n",
    "        row['Year established'] = int(row['Year established'])\n",
    "    if row['Land area(2010) sq mi'].replace('.', '').isnumeric(): \n",
    "        row['Land area(2010) sq mi'] = float(row['Land area(2010) sq mi'])\n",
    "    if row['Population(2010)'].replace('.', '').replace(',','').isnumeric():\n",
    "        row['Population(2010)'] = int(row['Population(2010)'].replace(',',''))"
   ]
  },
  {
   "cell_type": "code",
   "execution_count": null,
   "metadata": {},
   "outputs": [],
   "source": [
    "ridata[0]"
   ]
  },
  {
   "cell_type": "markdown",
   "metadata": {},
   "source": [
    "We can use the `.split()` string method to extract specific parts of a string when we know the string has some regular formatting. For example:"
   ]
  },
  {
   "cell_type": "code",
   "execution_count": null,
   "metadata": {},
   "outputs": [],
   "source": [
    "pd = ridata[0]['Population density']\n",
    "print(ridata[0]['Name']+\"'s population density:\", pd)\n",
    "#Population density per square mile:\n",
    "print(\"Per square mile\", pd.split('/')[0])\n",
    "\n",
    "#per square km:\n",
    "print(\"Per square kilometer:\", pd.split('(')[1].split('/')[0])"
   ]
  },
  {
   "cell_type": "markdown",
   "metadata": {},
   "source": [
    "##### Practice \n",
    "Find a field in your data that should be numeric and convert it to integers or floating-point numbers."
   ]
  },
  {
   "cell_type": "code",
   "execution_count": null,
   "metadata": {},
   "outputs": [],
   "source": []
  },
  {
   "cell_type": "markdown",
   "metadata": {},
   "source": [
    "#### Derived fields\n",
    "\n",
    "Sometimes, the numbers we want to analyze are not provided in the data we have, but can be calculated from that data. We'll want to add new fields to the data with our calculated figures.\n",
    "\n",
    "Earlier, I showed how we could extract population density from the numbers above. But we can also calculate it from the population and area numbers we've already converted to numeric variables:"
   ]
  },
  {
   "cell_type": "code",
   "execution_count": null,
   "metadata": {},
   "outputs": [],
   "source": [
    "pop  = ridata[0]['Population(2010)']\n",
    "area = ridata[0]['Land area(2010) sq mi']\n",
    "print(ridata[0]['Name']+\"'s population density:\", pop/area, \"/square mile\")"
   ]
  },
  {
   "cell_type": "markdown",
   "metadata": {},
   "source": [
    "We can add this figure to every row of our data:"
   ]
  },
  {
   "cell_type": "code",
   "execution_count": null,
   "metadata": {},
   "outputs": [],
   "source": [
    "for row in ridata:\n",
    "    row['population_density'] = row['Population(2010)'] / row['Land area(2010) sq mi']\n",
    "\n",
    "ridata"
   ]
  },
  {
   "cell_type": "markdown",
   "metadata": {},
   "source": [
    "#### Summary Statistics\n",
    "\n",
    "We've already discusses reading \"columns\" of data; with the functions in the [`statistics`](https://docs.python.org/3/library/statistics.html) module and the `min()` and `max()` functions, we can summarize those columns."
   ]
  },
  {
   "cell_type": "code",
   "execution_count": null,
   "metadata": {},
   "outputs": [],
   "source": [
    "import statistics\n",
    "\n",
    "print(statistics.mean([x['Land area(2010) sq mi'] for x in ridata]))\n",
    "print(min([x['Land area(2010) sq mi'] for x in ridata]), max([x['Land area(2010) sq mi'] for x in ridata]))"
   ]
  },
  {
   "cell_type": "markdown",
   "metadata": {},
   "source": [
    "##### Practice"
   ]
  },
  {
   "cell_type": "markdown",
   "metadata": {},
   "source": [
    "Calculate the mean and range (maximum and minimum values) for a numeric field in one of the loaded datasets."
   ]
  },
  {
   "cell_type": "code",
   "execution_count": null,
   "metadata": {},
   "outputs": [],
   "source": []
  }
 ],
 "metadata": {
  "kernelspec": {
   "display_name": "Python 3",
   "language": "python",
   "name": "python3"
  },
  "language_info": {
   "codemirror_mode": {
    "name": "ipython",
    "version": 3
   },
   "file_extension": ".py",
   "mimetype": "text/x-python",
   "name": "python",
   "nbconvert_exporter": "python",
   "pygments_lexer": "ipython3",
   "version": "3.7.3"
  }
 },
 "nbformat": 4,
 "nbformat_minor": 2
}
