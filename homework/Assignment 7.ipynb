{
 "cells": [
  {
   "cell_type": "markdown",
   "metadata": {},
   "source": [
    "# Assignment 7\n",
    "\n",
    "*(Due Saturday, November 2, 2019 at noon.)*"
   ]
  },
  {
   "cell_type": "code",
   "execution_count": 2,
   "metadata": {},
   "outputs": [],
   "source": [
    "import numpy as np\n",
    "import pandas as pd"
   ]
  },
  {
   "cell_type": "markdown",
   "metadata": {},
   "source": [
    "1) Load either your dataset, `brfss`, or `nhis` and create at least three derived fields from the data there. Ideally, these will be fields you'll need for your final project."
   ]
  },
  {
   "cell_type": "code",
   "execution_count": 15,
   "metadata": {},
   "outputs": [
    {
     "data": {
      "text/plain": [
       "POPGROUP.display-label                                                                                                                            EST_VC03  GEO.display-label\n",
       "American Indian and Alaska Native alone or in combination with one or more other races (300, A01-Z99) & (100-299) or (300, A01-Z99) or (400-999)  109189    Georgia              1\n",
       "                                                                                                                                                  110430    Minnesota            1\n",
       "                                                                                                                                                  120124    Colorado             1\n",
       "                                                                                                                                                  126118    Oregon               1\n",
       "                                                                                                                                                  150627    Michigan             1\n",
       "                                                                                                                                                  150704    Alaska               1\n",
       "                                                                                                                                                  178186    Florida              1\n",
       "                                                                                                                                                  198836    North Carolina       1\n",
       "                                                                                                                                                  213702    New York             1\n",
       "                                                                                                                                                  223788    Washington           1\n",
       "                                                                                                                                                  228694    New Mexico           1\n",
       "                                                                                                                                                  332793    Texas                1\n",
       "                                                                                                                                                  404869    Arizona              1\n",
       "                                                                                                                                                  527282    Oklahoma             1\n",
       "                                                                                                                                                  5631945   United States        1\n",
       "                                                                                                                                                  66328     Nevada               1\n",
       "                                                                                                                                                  778571    California           1\n",
       "                                                                                                                                                  81603     Missouri             1\n",
       "                                                                                                                                                  84968     Montana              1\n",
       "                                                                                                                                                  89584     South Dakota         1\n",
       "                                                                                                                                                  90165     Pennsylvania         1\n",
       "                                                                                                                                                  95034     Wisconsin            1\n",
       "                                                                                                                                                  95296     Virginia             1\n",
       "                                                                                                                                                  96432     Ohio                 1\n",
       "                                                                                                                                                  96586     Illinois             1\n",
       "Asian alone or in combination with one or more other races  (400-499) & (100-299) or (300, A01-Z99) or (400-999)                                  100518    South Carolina       1\n",
       "                                                                                                                                                  100886    Louisiana            1\n",
       "                                                                                                                                                  104469    Kansas               1\n",
       "                                                                                                                                                  110671    Utah                 1\n",
       "                                                                                                                                                  113995    Oklahoma             1\n",
       "                                                                                                                                                                                ..\n",
       "White alone or in combination with one or more other races                                                                                        3395370   Alabama              1\n",
       "                                                                                                                                                  3474484   South Carolina       1\n",
       "                                                                                                                                                  3486980   Maryland             1\n",
       "                                                                                                                                                  3682505   Oregon               1\n",
       "                                                                                                                                                  3967120   Kentucky             1\n",
       "                                                                                                                                                  4753015   Minnesota            1\n",
       "                                                                                                                                                  4892392   Colorado             1\n",
       "                                                                                                                                                  5073303   Wisconsin            1\n",
       "                                                                                                                                                  5162193   Missouri             1\n",
       "                                                                                                                                                  531861    Alaska               1\n",
       "                                                                                                                                                  5349262   Tennessee            1\n",
       "                                                                                                                                                  544335    Wyoming              1\n",
       "                                                                                                                                                  5570335   Massachusetts        1\n",
       "                                                                                                                                                  5666683   Arizona              1\n",
       "                                                                                                                                                  5739854   Indiana              1\n",
       "                                                                                                                                                  5975019   Washington           1\n",
       "                                                                                                                                                  600010    Vermont              1\n",
       "                                                                                                                                                  6006069   Virginia             1\n",
       "                                                                                                                                                  613156    Hawaii               1\n",
       "                                                                                                                                                  6295783   New Jersey           1\n",
       "                                                                                                                                                  6356178   Georgia              1\n",
       "                                                                                                                                                  668285    North Dakota         1\n",
       "                                                                                                                                                  686372    Delaware             1\n",
       "                                                                                                                                                  7292200   North Carolina       1\n",
       "                                                                                                                                                  757419    South Dakota         1\n",
       "                                                                                                                                                  8073395   Michigan             1\n",
       "                                                                                                                                                  893147    Rhode Island         1\n",
       "                                                                                                                                                  9412790   Illinois             1\n",
       "                                                                                                                                                  962539    Montana              1\n",
       "                                                                                                                                                  9791347   Ohio                 1\n",
       "Length: 192, dtype: int64"
      ]
     },
     "execution_count": 15,
     "metadata": {},
     "output_type": "execute_result"
    }
   ],
   "source": [
    "dataset = pd.read_csv('../dataset/dataset2.csv')\n",
    "dataset.groupby(['POPGROUP.display-label','EST_VC03','GEO.display-label']).size()"
   ]
  },
  {
   "cell_type": "markdown",
   "metadata": {},
   "source": [
    "2) Run the following cell."
   ]
  },
  {
   "cell_type": "code",
   "execution_count": 11,
   "metadata": {},
   "outputs": [
    {
     "data": {
      "text/plain": [
       "'0.9.0'"
      ]
     },
     "execution_count": 11,
     "metadata": {},
     "output_type": "execute_result"
    }
   ],
   "source": [
    "import seaborn as sns\n",
    "sns.__version__"
   ]
  },
  {
   "cell_type": "markdown",
   "metadata": {},
   "source": [
    "#### Submitting\n",
    "\n",
    "In the Terminal (Mac) or Git Bash (Windows):\n",
    "\n",
    "`git commit -a -m 'Assignment 7 completed'`  \n",
    "`git push`"
   ]
  },
  {
   "cell_type": "markdown",
   "metadata": {},
   "source": [
    "### Reading\n",
    "\n",
    "1. [_Python for Data Analysis_](https://uri-primo.hosted.exlibrisgroup.com/permalink/f/10nopmq/01URI_ALMA51209454630002396):\n",
    "    * Chapter 9"
   ]
  }
 ],
 "metadata": {
  "kernelspec": {
   "display_name": "Python 3",
   "language": "python",
   "name": "python3"
  },
  "language_info": {
   "codemirror_mode": {
    "name": "ipython",
    "version": 3
   },
   "file_extension": ".py",
   "mimetype": "text/x-python",
   "name": "python",
   "nbconvert_exporter": "python",
   "pygments_lexer": "ipython3",
   "version": "3.7.3"
  }
 },
 "nbformat": 4,
 "nbformat_minor": 2
}
